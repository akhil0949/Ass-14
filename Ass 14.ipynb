{
 "cells": [
  {
   "cell_type": "code",
   "execution_count": null,
   "metadata": {},
   "outputs": [],
   "source": [
    "1. Write a Python Program to Add Two Matrices?\n",
    "Ans)\n",
    "from numpy import array\n",
    "arr1 = array([[1,2,3,4],[2,3,4,5]])\n",
    "arr2 = array([[3,2,1,2],[4,5,7,3]])\n",
    "arr1 + arr2"
   ]
  },
  {
   "cell_type": "code",
   "execution_count": null,
   "metadata": {},
   "outputs": [],
   "source": [
    "2. Write a Python Program to Multiply Two Matrices?\n",
    "Ans)\n",
    "from numpy import array\n",
    "arr1 = array([[1,2,3,4],[2,3,4,5]])\n",
    "arr2 = array([[3,2,1,2],[4,5,7,3]])\n",
    "arr1 * arr2"
   ]
  },
  {
   "cell_type": "code",
   "execution_count": null,
   "metadata": {},
   "outputs": [],
   "source": [
    "3. Write a Python Program to Transpose a Matrix?\n",
    "p = int(input(\"enter no of rows:\"))\n",
    "q = int(input(\"enter no of cols:\"))   \n",
    "print(\"enter the elements for matrix1\")\n",
    "matrix1 = [[int(input()) for i in range(q)] for j in range(p)]\n",
    "print(\"matrix1:\")\n",
    "for i in range(p):\n",
    "    for j in range(q):\n",
    "        print(format(matrix1[i][j],\"<4\"),end=\"\")\n",
    "    print()\n",
    "result = [[0 for i in range(p)] for j in range(q)] \n",
    "for i in range(q):\n",
    "    for j in range(p):\n",
    "        result[i][j] = matrix1[j][i]\n",
    "print(\"matrix2\")        \n",
    "for i in range(q):\n",
    "    for j in range(p):\n",
    "        print(format(result[i][j],\"<4\"),end=\"\")\n",
    "    print()"
   ]
  },
  {
   "cell_type": "code",
   "execution_count": null,
   "metadata": {},
   "outputs": [],
   "source": [
    "4. Write a Python Program to Sort Words in Alphabetic Order?\n",
    "Ans)\n",
    "s = 'hello python this is akhil, this is my first python course thank you.'\n",
    "k = s.lower().split()\n",
    "k.sort()\n",
    "print(k)"
   ]
  },
  {
   "cell_type": "code",
   "execution_count": null,
   "metadata": {},
   "outputs": [],
   "source": [
    "5. Write a Python Program to Remove Punctuation From a String?\n",
    "string = \"hello, this is python pro : thank ''you;\"\n",
    "print(\"The original string is : \" + string)\n",
    "punc = '''!()-[]{};:'\"\\,<>./?@#$%^&*_~'''\n",
    "for i in string:\n",
    "    if i in punc:\n",
    "        string = string.replace(i, \"\")\n",
    "print(\"The string after punctuation filter : \" + string)"
   ]
  }
 ],
 "metadata": {
  "kernelspec": {
   "display_name": "Python 3",
   "language": "python",
   "name": "python3"
  },
  "language_info": {
   "codemirror_mode": {
    "name": "ipython",
    "version": 3
   },
   "file_extension": ".py",
   "mimetype": "text/x-python",
   "name": "python",
   "nbconvert_exporter": "python",
   "pygments_lexer": "ipython3",
   "version": "3.6.13"
  }
 },
 "nbformat": 4,
 "nbformat_minor": 2
}
